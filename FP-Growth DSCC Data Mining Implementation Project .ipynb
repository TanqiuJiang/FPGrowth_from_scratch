{
 "cells": [
  {
   "cell_type": "code",
   "execution_count": 1,
   "metadata": {},
   "outputs": [
    {
     "name": "stdout",
     "output_type": "stream",
     "text": [
      "       age     workclass  fnlwgt     education  educational-num  \\\n",
      "0       25       Private  226802          11th                7   \n",
      "1       38       Private   89814       HS-grad                9   \n",
      "2       28     Local-gov  336951    Assoc-acdm               12   \n",
      "3       44       Private  160323  Some-college               10   \n",
      "4       18             ?  103497  Some-college               10   \n",
      "...    ...           ...     ...           ...              ...   \n",
      "48837   27       Private  257302    Assoc-acdm               12   \n",
      "48838   40       Private  154374       HS-grad                9   \n",
      "48839   58       Private  151910       HS-grad                9   \n",
      "48840   22       Private  201490       HS-grad                9   \n",
      "48841   52  Self-emp-inc  287927       HS-grad                9   \n",
      "\n",
      "           marital-status         occupation relationship   race  gender  \\\n",
      "0           Never-married  Machine-op-inspct    Own-child  Black    Male   \n",
      "1      Married-civ-spouse    Farming-fishing      Husband  White    Male   \n",
      "2      Married-civ-spouse    Protective-serv      Husband  White    Male   \n",
      "3      Married-civ-spouse  Machine-op-inspct      Husband  Black    Male   \n",
      "4           Never-married                  ?    Own-child  White  Female   \n",
      "...                   ...                ...          ...    ...     ...   \n",
      "48837  Married-civ-spouse       Tech-support         Wife  White  Female   \n",
      "48838  Married-civ-spouse  Machine-op-inspct      Husband  White    Male   \n",
      "48839             Widowed       Adm-clerical    Unmarried  White  Female   \n",
      "48840       Never-married       Adm-clerical    Own-child  White    Male   \n",
      "48841  Married-civ-spouse    Exec-managerial         Wife  White  Female   \n",
      "\n",
      "       capital-gain  capital-loss  hours-per-week native-country income  \n",
      "0                 0             0              40  United-States  <=50K  \n",
      "1                 0             0              50  United-States  <=50K  \n",
      "2                 0             0              40  United-States   >50K  \n",
      "3              7688             0              40  United-States   >50K  \n",
      "4                 0             0              30  United-States  <=50K  \n",
      "...             ...           ...             ...            ...    ...  \n",
      "48837             0             0              38  United-States  <=50K  \n",
      "48838             0             0              40  United-States   >50K  \n",
      "48839             0             0              40  United-States  <=50K  \n",
      "48840             0             0              20  United-States  <=50K  \n",
      "48841         15024             0              40  United-States   >50K  \n",
      "\n",
      "[48842 rows x 15 columns]\n"
     ]
    }
   ],
   "source": [
    "# Tanqiu Jiang\n",
    "# DSCC 440 Data Mining Implementation Project\n",
    "\n",
    "# Import the UCI adult dataset\n",
    "import pandas as pd\n",
    "import numpy as np\n",
    "import time\n",
    "df = pd.read_csv (r'adult.csv')\n",
    "print (df)"
   ]
  },
  {
   "cell_type": "code",
   "execution_count": 2,
   "metadata": {},
   "outputs": [],
   "source": [
    "def FPGrowth (df,min_support,result):\n",
    "    tic = time.perf_counter()\n",
    "    i=0\n",
    "    C1 = {}\n",
    "    L1 = []\n",
    "    tree = []\n",
    "    if (min_support < 1): \n",
    "        cnt = df[df.columns.values[0]].count()\n",
    "        cnt = int(cnt * min_support)\n",
    "        min_support = cnt\n",
    "        print(\"The min_support you set is:\",min_support)\n",
    "    newdf = df.copy()\n",
    "    replaceItems(newdf)\n",
    "    for elements in df.columns.values:\n",
    "        header = df.columns.values[i]\n",
    "        FirstRound(df,header,C1)\n",
    "        i=i+1\n",
    "    print(\"The F-list is:\",FindFrequent(C1,min_support,L1))\n",
    "    i=0\n",
    "    j=0\n",
    "    k=0\n",
    "    m=0\n",
    "    value = 0\n",
    "    myFtable = HashTable()\n",
    "    mytable = HashTable()\n",
    "    ItemSet = L1\n",
    "    C = {}\n",
    "    for j in range (len(newdf[newdf.columns.values[k]].values)-1):\n",
    "        i = 0\n",
    "        m += 1\n",
    "        temp = \"\"\n",
    "        if m % 1000 == 1:\n",
    "            print(\"working on line:\", j)\n",
    "        for elements in ItemSet:\n",
    "            #count = 3\n",
    "            value = 0\n",
    "            for char in ItemSet[i]:\n",
    "                value += ord(char)\n",
    "                #print(count)\n",
    "                for k in range (len(newdf.iloc[j])):\n",
    "                    if (newdf.iloc[j][k] == value):\n",
    "                        temp += ItemSet[i] + \" \"\n",
    "                        mytable[temp] = temp\n",
    "                        myFtable[temp] += 1\n",
    "            i = i + 1\n",
    "        j = j + 1\n",
    "    for a in range(100000):\n",
    "        if myFtable.arr[a] > 0:\n",
    "            #print(myFtable.arr[a])\n",
    "            #print(str(mytable.arr[a]))\n",
    "            C[str(mytable.arr[a])] = myFtable.arr[a]\n",
    "    #print(C)\n",
    "    j = 0\n",
    "    Items = {}\n",
    "    for j in range (len(L1)-1):\n",
    "        j = j+1\n",
    "        FindItemSet(L1,j,Items,C)\n",
    "    #print(Items)\n",
    "    FinalAnwser = L1\n",
    "    FindFrequent(Items,min_support,FinalAnwser)\n",
    "    result += FinalAnwser\n",
    "    print(\"The frequent items are:\",FinalAnwser,\"with min_support of\",min_support)\n",
    "    toc = time.perf_counter()\n",
    "    print(\"My FP-Growth algorithm takes\",int((toc - tic)/3600),\"Hours\",int((toc - tic)/60%60),\"minutes\",int(toc - tic)%60,\"seconds to run! (Min_Support =\",min_support,\")\")\n",
    "    return (result)"
   ]
  },
  {
   "cell_type": "code",
   "execution_count": 3,
   "metadata": {},
   "outputs": [],
   "source": [
    "def FindItemSet(L1,Freq,FrequentItem,C):  \n",
    "    tree = []\n",
    "    GenerateTree(L1,tree,Freq)\n",
    "    #print(tree)\n",
    "    x=0\n",
    "    treeTable = HashTable()\n",
    "    treeFTable = HashTable()\n",
    "    #FrequentItem = {}\n",
    "    for x in range (len(tree)):\n",
    "        temp = \"\"\n",
    "        myString = \"\"\n",
    "        for char in tree[x]:\n",
    "            if char == \" \":\n",
    "                #print(temp)\n",
    "                addSpace = True\n",
    "                for y in range (len(L1)-Freq):\n",
    "                    #print (L1[y])\n",
    "                    if temp == L1[y]:\n",
    "                        #print(temp)\n",
    "                        myString += temp + \" \"\n",
    "                        #print(myString)\n",
    "                        treeTable[myString+L1[len(L1)-Freq]] = myString+L1[len(L1)-Freq]\n",
    "                        if (C.get(tree[x])!=None):\n",
    "                            #print(tree[x])\n",
    "                            treeFTable[myString+L1[len(L1)-Freq]] += C.get(tree[x])\n",
    "                            #print(myString+L1[len(L1)-1])\n",
    "                        if (C.get(tree[x])==None):\n",
    "                            treeFTable[myString+L1[len(L1)-Freq]] = 0\n",
    "                        temp = \"\"\n",
    "                        addSpace = False\n",
    "                if addSpace:\n",
    "                    temp += char\n",
    "            else:\n",
    "                temp += char\n",
    "    for a in range(100000):\n",
    "        if treeFTable.arr[a] > 0:\n",
    "            #print(myFtable.arr[a])\n",
    "            #print(str(mytable.arr[a]))\n",
    "            FrequentItem[str(treeTable.arr[a])] = treeFTable.arr[a]\n",
    "    return(FrequentItem)"
   ]
  },
  {
   "cell_type": "code",
   "execution_count": 4,
   "metadata": {},
   "outputs": [],
   "source": [
    "def replaceItems(dataframe):\n",
    "    i=0\n",
    "    for i in range (len(df.columns.values)): \n",
    "        y = []\n",
    "        for ind,row in dataframe.iterrows():\n",
    "            x = 0\n",
    "            for char in str(row[i]):\n",
    "                x += ord(char)\n",
    "            for char in (df.columns.values[i]):\n",
    "                x += ord(char)\n",
    "            for char in (\": \"):\n",
    "                x += ord(char)\n",
    "            y.append(x)\n",
    "        dataframe[df.columns.values[i]] = y\n",
    "    return(dataframe)"
   ]
  },
  {
   "cell_type": "code",
   "execution_count": 5,
   "metadata": {},
   "outputs": [],
   "source": [
    "class HashTable:  \n",
    "    def __init__(self):\n",
    "        self.MAX = 100000\n",
    "        self.arr = [0 for i in range(self.MAX)]\n",
    "        \n",
    "    def get_hash(self, key):\n",
    "        hash = 0\n",
    "        y = 3\n",
    "        if isinstance(key, (int, np.int64)):\n",
    "            return key % self.MAX\n",
    "        else:\n",
    "            for char in key:\n",
    "                hash += (ord(char)+77)*y*89\n",
    "                y = y+3\n",
    "            return hash % self.MAX\n",
    "    \n",
    "    def __getitem__(self, index):\n",
    "        h = self.get_hash(index)\n",
    "        return self.arr[h]\n",
    "    \n",
    "    def __setitem__(self, key, val):\n",
    "        h = self.get_hash(key)\n",
    "        self.arr[h] = val"
   ]
  },
  {
   "cell_type": "code",
   "execution_count": 6,
   "metadata": {},
   "outputs": [],
   "source": [
    "def FirstRound(df,key,C1):\n",
    "    i=0\n",
    "    table = HashTable()\n",
    "    for element in df[key]:\n",
    "        table[df[key][i]] = df[key][i]\n",
    "        i=i+1\n",
    "    Ftable = HashTable()\n",
    "    i=0\n",
    "    for element in df[key]:\n",
    "        Ftable[df[key][i]] += 1\n",
    "        i=i+1\n",
    "    for i in range(100000):\n",
    "        if Ftable.arr[i] > 0:\n",
    "            C1[key+\": \"+str(table.arr[i])] = Ftable.arr[i]\n",
    "    return(C1)"
   ]
  },
  {
   "cell_type": "code",
   "execution_count": 7,
   "metadata": {},
   "outputs": [],
   "source": [
    "def FindFrequent(itemset,int,L1):\n",
    "    sortedDict = sorted(itemset.items(), key=lambda x: x[1], reverse=True)\n",
    "    L1Dict = {}\n",
    "    for i in sortedDict:\n",
    "        if i[1]>int:\n",
    "            L1Dict[i[0]] = i[1]\n",
    "            L1.append(i[0])\n",
    "    return(L1)"
   ]
  },
  {
   "cell_type": "code",
   "execution_count": 8,
   "metadata": {},
   "outputs": [],
   "source": [
    "def GenerateTree(L1,tree,number):\n",
    "    from itertools import combinations\n",
    "    a =0\n",
    "    for a in range (len(L1)):\n",
    "        a=a+1\n",
    "        comb = combinations(L1, a) \n",
    "        for i in list(comb):\n",
    "            temp = \"\"\n",
    "            #print(a)\n",
    "            if i[a-1] == L1[len(L1)-number]:\n",
    "                for x in range (a):\n",
    "                    temp += i[x] + \" \"\n",
    "            if temp != \"\":\n",
    "                #print(temp)\n",
    "                tree.append(temp)\n",
    "    return(tree)"
   ]
  },
  {
   "cell_type": "code",
   "execution_count": 10,
   "metadata": {},
   "outputs": [
    {
     "name": "stdout",
     "output_type": "stream",
     "text": [
      "The F-list is: ['capital-loss: 0', 'capital-gain: 0', 'native-country: United-States', 'race: White', 'income: <=50K', 'workclass: Private', 'gender: Male']\n",
      "working on line: 0\n",
      "working on line: 1000\n",
      "working on line: 2000\n",
      "working on line: 3000\n",
      "working on line: 4000\n",
      "working on line: 5000\n",
      "working on line: 6000\n",
      "working on line: 7000\n",
      "working on line: 8000\n",
      "working on line: 9000\n",
      "working on line: 10000\n",
      "working on line: 11000\n",
      "working on line: 12000\n",
      "working on line: 13000\n",
      "working on line: 14000\n",
      "working on line: 15000\n",
      "working on line: 16000\n",
      "working on line: 17000\n",
      "working on line: 18000\n",
      "working on line: 19000\n",
      "working on line: 20000\n",
      "working on line: 21000\n",
      "working on line: 22000\n",
      "working on line: 23000\n",
      "working on line: 24000\n",
      "working on line: 25000\n",
      "working on line: 26000\n",
      "working on line: 27000\n",
      "working on line: 28000\n",
      "working on line: 29000\n",
      "working on line: 30000\n",
      "working on line: 31000\n",
      "working on line: 32000\n",
      "working on line: 33000\n",
      "working on line: 34000\n",
      "working on line: 35000\n",
      "working on line: 36000\n",
      "working on line: 37000\n",
      "working on line: 38000\n",
      "working on line: 39000\n",
      "working on line: 40000\n",
      "working on line: 41000\n",
      "working on line: 42000\n",
      "working on line: 43000\n",
      "working on line: 44000\n",
      "working on line: 45000\n",
      "working on line: 46000\n",
      "working on line: 47000\n",
      "working on line: 48000\n",
      "The frequent items are: ['capital-loss: 0', 'capital-gain: 0', 'native-country: United-States', 'race: White', 'income: <=50K', 'workclass: Private', 'gender: Male', 'capital-loss: 0 capital-gain: 0', 'capital-loss: 0 native-country: United-States', 'capital-loss: 0 race: White', 'capital-loss: 0 capital-gain: 0 native-country: United-States', 'capital-loss: 0 capital-gain: 0 race: White', 'capital-loss: 0 income: <=50K', 'capital-loss: 0 capital-gain: 0 income: <=50K', 'capital-loss: 0 capital-gain: 0 native-country: United-States race: White', 'capital-loss: 0 workclass: Private', 'capital-loss: 0 capital-gain: 0 native-country: United-States income: <=50K', 'capital-loss: 0 gender: Male', 'capital-loss: 0 capital-gain: 0 workclass: Private', 'capital-loss: 0 capital-gain: 0 gender: Male', 'capital-loss: 0 capital-gain: 0 native-country: United-States workclass: Private', 'capital-loss: 0 capital-gain: 0 native-country: United-States race: White income: <=50K'] with min_support of 25000\n",
      "My FP-Growth algorithm takes 2 Hours 11 minutes 2 seconds to run! (Min_Support = 25000 )\n",
      "As we can see the final result is: ['capital-loss: 0', 'capital-gain: 0', 'native-country: United-States', 'race: White', 'income: <=50K', 'workclass: Private', 'gender: Male', 'capital-loss: 0 capital-gain: 0', 'capital-loss: 0 native-country: United-States', 'capital-loss: 0 race: White', 'capital-loss: 0 capital-gain: 0 native-country: United-States', 'capital-loss: 0 capital-gain: 0 race: White', 'capital-loss: 0 income: <=50K', 'capital-loss: 0 capital-gain: 0 income: <=50K', 'capital-loss: 0 capital-gain: 0 native-country: United-States race: White', 'capital-loss: 0 workclass: Private', 'capital-loss: 0 capital-gain: 0 native-country: United-States income: <=50K', 'capital-loss: 0 gender: Male', 'capital-loss: 0 capital-gain: 0 workclass: Private', 'capital-loss: 0 capital-gain: 0 gender: Male', 'capital-loss: 0 capital-gain: 0 native-country: United-States workclass: Private', 'capital-loss: 0 capital-gain: 0 native-country: United-States race: White income: <=50K']\n"
     ]
    }
   ],
   "source": [
    "FinalResult = []\n",
    "FPGrowth(df,25000,FinalResult)\n",
    "print(\"As we can see the final result is:\",FinalResult)"
   ]
  },
  {
   "cell_type": "code",
   "execution_count": null,
   "metadata": {},
   "outputs": [],
   "source": [
    "# Please Disregard anything below this point\n",
    "# Those are pieces that were once used for testing purposes"
   ]
  },
  {
   "cell_type": "code",
   "execution_count": null,
   "metadata": {},
   "outputs": [],
   "source": []
  },
  {
   "cell_type": "code",
   "execution_count": null,
   "metadata": {},
   "outputs": [],
   "source": []
  },
  {
   "cell_type": "code",
   "execution_count": null,
   "metadata": {},
   "outputs": [],
   "source": []
  },
  {
   "cell_type": "code",
   "execution_count": null,
   "metadata": {},
   "outputs": [],
   "source": []
  },
  {
   "cell_type": "code",
   "execution_count": null,
   "metadata": {},
   "outputs": [],
   "source": []
  },
  {
   "cell_type": "code",
   "execution_count": null,
   "metadata": {},
   "outputs": [],
   "source": []
  },
  {
   "cell_type": "code",
   "execution_count": null,
   "metadata": {},
   "outputs": [],
   "source": []
  },
  {
   "cell_type": "code",
   "execution_count": null,
   "metadata": {},
   "outputs": [],
   "source": []
  },
  {
   "cell_type": "code",
   "execution_count": null,
   "metadata": {},
   "outputs": [],
   "source": []
  },
  {
   "cell_type": "code",
   "execution_count": null,
   "metadata": {},
   "outputs": [],
   "source": []
  },
  {
   "cell_type": "code",
   "execution_count": null,
   "metadata": {},
   "outputs": [],
   "source": []
  },
  {
   "cell_type": "code",
   "execution_count": null,
   "metadata": {},
   "outputs": [],
   "source": []
  },
  {
   "cell_type": "code",
   "execution_count": null,
   "metadata": {},
   "outputs": [],
   "source": []
  },
  {
   "cell_type": "code",
   "execution_count": null,
   "metadata": {},
   "outputs": [],
   "source": []
  },
  {
   "cell_type": "code",
   "execution_count": null,
   "metadata": {},
   "outputs": [],
   "source": []
  },
  {
   "cell_type": "code",
   "execution_count": null,
   "metadata": {},
   "outputs": [],
   "source": []
  },
  {
   "cell_type": "code",
   "execution_count": null,
   "metadata": {},
   "outputs": [],
   "source": []
  },
  {
   "cell_type": "code",
   "execution_count": null,
   "metadata": {},
   "outputs": [],
   "source": []
  },
  {
   "cell_type": "code",
   "execution_count": 94,
   "metadata": {},
   "outputs": [
    {
     "name": "stdout",
     "output_type": "stream",
     "text": [
      "working on line: 0\n",
      "working on line: 1000\n",
      "working on line: 2000\n",
      "working on line: 3000\n",
      "working on line: 4000\n",
      "working on line: 5000\n",
      "working on line: 6000\n",
      "working on line: 7000\n",
      "working on line: 8000\n",
      "working on line: 9000\n",
      "working on line: 10000\n",
      "working on line: 11000\n",
      "working on line: 12000\n",
      "working on line: 13000\n",
      "working on line: 14000\n",
      "working on line: 15000\n",
      "working on line: 16000\n",
      "working on line: 17000\n",
      "working on line: 18000\n",
      "working on line: 19000\n",
      "working on line: 20000\n",
      "working on line: 21000\n",
      "working on line: 22000\n",
      "working on line: 23000\n",
      "working on line: 24000\n",
      "working on line: 25000\n",
      "working on line: 26000\n",
      "working on line: 27000\n",
      "working on line: 28000\n",
      "working on line: 29000\n",
      "working on line: 30000\n",
      "working on line: 31000\n",
      "working on line: 32000\n",
      "working on line: 33000\n",
      "working on line: 34000\n",
      "working on line: 35000\n",
      "working on line: 36000\n",
      "working on line: 37000\n",
      "working on line: 38000\n",
      "working on line: 39000\n",
      "working on line: 40000\n",
      "working on line: 41000\n",
      "working on line: 42000\n",
      "working on line: 43000\n",
      "working on line: 44000\n",
      "working on line: 45000\n",
      "working on line: 46000\n",
      "working on line: 47000\n",
      "working on line: 48000\n",
      "{'capital-loss: 0 capital-gain: 0 native-country: United-States ': 38044, 'capital-loss: 0 native-country: United-States native-country: United-States race: White race: White ': 4, 'capital-gain: 0 ': 2280, 'capital-loss: 0 capital-gain: 0 native-country: United-States income: <=50K income: <=50K ': 10, 'capital-loss: 0 capital-loss: 0 capital-gain: 0 race: White ': 1, 'capital-loss: 0 capital-gain: 0 native-country: United-States race: White income: <=50K ': 25660, 'capital-loss: 0 capital-gain: 0 native-country: United-States race: White race: White income: <=50K ': 628, 'capital-loss: 0 capital-loss: 0 capital-gain: 0 ': 44, 'capital-loss: 0 capital-gain: 0 native-country: United-States race: White race: White race: White ': 6, 'capital-loss: 0 capital-gain: 0 native-country: United-States income: <=50K ': 4251, 'capital-loss: 0 capital-gain: 0 native-country: United-States native-country: United-States race: White ': 179, 'capital-loss: 0 capital-loss: 0 capital-gain: 0 native-country: United-States race: White ': 42, 'capital-loss: 0 race: White income: <=50K ': 100, 'capital-loss: 0 capital-gain: 0 native-country: United-States race: White race: White race: White income: <=50K ': 3, 'capital-loss: 0 capital-gain: 0 native-country: United-States race: White income: <=50K income: <=50K ': 83, 'capital-loss: 0 capital-gain: 0 income: <=50K ': 1247, 'capital-gain: 0 race: White income: <=50K ': 58, 'capital-loss: 0 capital-loss: 0 ': 45, 'capital-loss: 0 income: <=50K ': 43, 'capital-loss: 0 native-country: United-States race: White ': 3309, 'capital-loss: 0 race: White race: White income: <=50K ': 1, 'capital-loss: 0 native-country: United-States native-country: United-States income: <=50K ': 1, 'capital-loss: 0 capital-gain: 0 native-country: United-States race: White race: White ': 837, 'capital-gain: 0 income: <=50K ': 47, 'capital-gain: 0 native-country: United-States race: White ': 1896, 'capital-gain: 0 race: White race: White income: <=50K ': 2, 'capital-gain: 0 native-country: United-States native-country: United-States income: <=50K ': 1, 'capital-loss: 0 race: White race: White ': 2, 'capital-loss: 0 capital-gain: 0 income: <=50K income: <=50K ': 5, 'capital-loss: 0 capital-gain: 0 race: White income: <=50K ': 2460, 'capital-loss: 0 capital-loss: 0 native-country: United-States ': 1, 'capital-gain: 0 race: White race: White ': 3, 'capital-loss: 0 native-country: United-States native-country: United-States ': 64, 'capital-loss: 0 capital-gain: 0 native-country: United-States native-country: United-States race: White income: <=50K ': 145, 'capital-loss: 0 capital-loss: 0 capital-gain: 0 native-country: United-States ': 43, 'capital-gain: 0 native-country: United-States native-country: United-States ': 14, 'capital-loss: 0 native-country: United-States race: White race: White race: White ': 1, 'capital-loss: 0 native-country: United-States race: White race: White race: White income: <=50K ': 1, 'capital-loss: 0 native-country: United-States race: White race: White income: <=50K ': 42, 'capital-loss: 0 capital-gain: 0 race: White race: White ': 54, 'capital-loss: 0 capital-gain: 0 native-country: United-States race: White ': 33122, 'capital-gain: 0 native-country: United-States race: White race: White income: <=50K ': 26, 'capital-loss: 0 race: White ': 225, 'capital-loss: 0 capital-gain: 0 race: White race: White income: <=50K ': 44, 'capital-gain: 0 race: White ': 113, 'capital-loss: 0 native-country: United-States native-country: United-States race: White ': 56, 'capital-loss: 0 capital-gain: 0 race: White ': 2943, 'capital-loss: 0 native-country: United-States race: White income: <=50K ': 1190, 'capital-loss: 0 capital-gain: 0 native-country: United-States native-country: United-States race: White race: White ': 1, 'capital-gain: 0 native-country: United-States native-country: United-States race: White ': 13, 'capital-gain: 0 native-country: United-States race: White income: <=50K ': 885, 'capital-loss: 0 capital-gain: 0 native-country: United-States native-country: United-States income: <=50K ': 16, 'capital-loss: 0 capital-loss: 0 capital-gain: 0 native-country: United-States race: White income: <=50K ': 36, 'capital-loss: 0 capital-gain: 0 race: White income: <=50K income: <=50K ': 3, 'capital-loss: 0 native-country: United-States race: White income: <=50K income: <=50K ': 9, 'capital-loss: 0 capital-gain: 0 native-country: United-States native-country: United-States ': 197, 'capital-loss: 0 native-country: United-States native-country: United-States race: White income: <=50K ': 6, 'capital-gain: 0 native-country: United-States race: White income: <=50K income: <=50K ': 2, 'capital-loss: 0 capital-loss: 0 capital-gain: 0 race: White income: <=50K ': 1, 'capital-loss: 0 native-country: United-States race: White race: White ': 97, 'capital-loss: 0 native-country: United-States ': 3689, 'capital-gain: 0 native-country: United-States native-country: United-States race: White income: <=50K ': 8, 'capital-loss: 0 capital-gain: 0 ': 42483, 'capital-gain: 0 native-country: United-States race: White race: White ': 58, 'capital-gain: 0 native-country: United-States ': 2078, 'capital-loss: 0 native-country: United-States income: <=50K ': 165, 'capital-loss: 0 ': 46561, 'capital-loss: 0 capital-loss: 0 native-country: United-States race: White ': 1, 'capital-gain: 0 native-country: United-States income: <=50K ': 112}\n"
     ]
    }
   ],
   "source": [
    "    i=0\n",
    "    j=0\n",
    "    k=0\n",
    "    m=0\n",
    "    value = 0\n",
    "    myFtable = HashTable()\n",
    "    mytable = HashTable()\n",
    "    ItemSet = L1\n",
    "    C = {}\n",
    "    for j in range (len(newdf[newdf.columns.values[k]].values)-1):\n",
    "        i = 0\n",
    "        m += 1\n",
    "        temp = \"\"\n",
    "        if m % 1000 == 1:\n",
    "            print(\"working on line:\", j)\n",
    "        for elements in ItemSet:\n",
    "            #count = 3\n",
    "            value = 0\n",
    "            for char in ItemSet[i]:\n",
    "                value += ord(char)\n",
    "                #print(count)\n",
    "                for k in range (len(newdf.iloc[j])):\n",
    "                    if (newdf.iloc[j][k] == value):\n",
    "                        temp += ItemSet[i] + \" \"\n",
    "                        mytable[temp] = temp\n",
    "                        myFtable[temp] += 1\n",
    "            i = i + 1\n",
    "        j = j + 1\n",
    "    for a in range(100000):\n",
    "        if myFtable.arr[a] > 0:\n",
    "            #print(myFtable.arr[a])\n",
    "            #print(str(mytable.arr[a]))\n",
    "            C[str(mytable.arr[a])] = myFtable.arr[a]\n",
    "    print(C)"
   ]
  },
  {
   "cell_type": "code",
   "execution_count": 215,
   "metadata": {},
   "outputs": [
    {
     "name": "stdout",
     "output_type": "stream",
     "text": [
      "The frequent items are: ['capital-loss: 0', 'capital-gain: 0', 'native-country: United-States', 'race: White', 'income: <=50K', 'capital-loss: 0 capital-gain: 0', 'capital-loss: 0 native-country: United-States', 'capital-loss: 0 race: White', 'capital-loss: 0 capital-gain: 0 native-country: United-States', 'capital-loss: 0 capital-gain: 0 race: White', 'capital-loss: 0 income: <=50K', 'capital-loss: 0 capital-gain: 0', 'capital-loss: 0 native-country: United-States', 'capital-loss: 0 race: White', 'capital-loss: 0 capital-gain: 0 native-country: United-States', 'capital-loss: 0 capital-gain: 0 race: White', 'capital-loss: 0 income: <=50K'] with min_support of 35000\n"
     ]
    }
   ],
   "source": [
    "j = 0\n",
    "Items = {}\n",
    "for j in range (len(L1)-1):\n",
    "    j = j+1\n",
    "    FindItemSet(L1,j,Items)\n",
    "#print(Items)\n",
    "FinalAnwser = L1\n",
    "FindFrequent(Items,35000,FinalAnwser)\n",
    "print(\"The frequent items are:\",FinalAnwser,\"with min_support of 35000\")"
   ]
  },
  {
   "cell_type": "code",
   "execution_count": 192,
   "metadata": {},
   "outputs": [
    {
     "data": {
      "text/plain": [
       "3689"
      ]
     },
     "execution_count": 192,
     "metadata": {},
     "output_type": "execute_result"
    }
   ],
   "source": [
    "C[\"capital-loss: 0 native-country: United-States \"]"
   ]
  },
  {
   "cell_type": "code",
   "execution_count": 200,
   "metadata": {},
   "outputs": [
    {
     "data": {
      "text/plain": [
       "['capital-gain: 0 ', 'capital-loss: 0 capital-gain: 0 ']"
      ]
     },
     "execution_count": 200,
     "metadata": {},
     "output_type": "execute_result"
    }
   ],
   "source": [
    "tree = []\n",
    "GenerateTree(L1,tree,4)"
   ]
  },
  {
   "cell_type": "code",
   "execution_count": 205,
   "metadata": {
    "scrolled": true
   },
   "outputs": [
    {
     "name": "stdout",
     "output_type": "stream",
     "text": [
      "{'capital-loss: 0 capital-gain: 0': 42483}\n"
     ]
    }
   ],
   "source": [
    "tree = []\n",
    "GenerateTree(L1,tree,4)\n",
    "#print(tree)\n",
    "x=0\n",
    "treeTable = HashTable()\n",
    "treeFTable = HashTable()\n",
    "FrequentItem = {}\n",
    "for x in range (len(tree)):\n",
    "    temp = \"\"\n",
    "    myString = \"\"\n",
    "    for char in tree[x]:\n",
    "        if char == \" \":\n",
    "            #print(temp)\n",
    "            addSpace = True\n",
    "            for y in range (len(L1)-4):\n",
    "                #print (L1[y])\n",
    "                if temp == L1[y]:\n",
    "                    #print(temp)\n",
    "                    myString += temp + \" \"\n",
    "                    #print(myString)\n",
    "                    treeTable[myString+L1[len(L1)-4]] = myString+L1[len(L1)-4]\n",
    "                    if (C.get(tree[x])!=None):\n",
    "                        #print(tree[x])\n",
    "                        treeFTable[myString+L1[len(L1)-4]] += C.get(tree[x])\n",
    "                        #print(myString+L1[len(L1)-1])\n",
    "                    if (C.get(tree[x])==None):\n",
    "                        treeFTable[myString+L1[len(L1)-4]] = 0\n",
    "                    temp = \"\"\n",
    "                    addSpace = False\n",
    "            if addSpace:\n",
    "                temp += char\n",
    "        else:\n",
    "            temp += char\n",
    "for a in range(100000):\n",
    "    if treeFTable.arr[a] > 0:\n",
    "        #print(myFtable.arr[a])\n",
    "        #print(str(mytable.arr[a]))\n",
    "        FrequentItem[str(treeTable.arr[a])] = treeFTable.arr[a]\n",
    "print(FrequentItem)"
   ]
  },
  {
   "cell_type": "code",
   "execution_count": null,
   "metadata": {},
   "outputs": [],
   "source": [
    "i = 0\n",
    "Grow = HashTable()\n",
    "GrowF = HashTable()\n",
    "temp = \"\"\n",
    "x = 0\n",
    "for i in range (len(L1)):\n",
    "    for x in range (i+1):\n",
    "        print(i,x)\n",
    "        temp =\"\"\n",
    "        temp += L1[i-x]+\" \"\n",
    "        print (temp)\n",
    "        x+=1\n",
    "    i+=1\n",
    "    #temp += \"\"\n",
    "    #Grow[L1[i]] = L1[i]\n",
    "    \n",
    "    i=i+1"
   ]
  },
  {
   "cell_type": "code",
   "execution_count": 93,
   "metadata": {},
   "outputs": [
    {
     "name": "stdout",
     "output_type": "stream",
     "text": [
      "The F-list is: ['capital-loss: 0', 'capital-gain: 0', 'native-country: United-States', 'race: White', 'income: <=50K']\n"
     ]
    }
   ],
   "source": [
    "i=0\n",
    "C1 = {}\n",
    "L1 = []\n",
    "tree = []\n",
    "newdf = df.copy()\n",
    "replaceItems(newdf)\n",
    "for elements in df.columns.values:\n",
    "    header = df.columns.values[i]\n",
    "    FirstRound(df,header,C1)\n",
    "    i=i+1\n",
    "print(\"The F-list is:\",FindFrequent(C1,35000,L1))\n",
    "#print(\"The tree looks like: \")\n",
    "#GenerateTree(L1,tree)\n",
    "#print(tree)"
   ]
  }
 ],
 "metadata": {
  "kernelspec": {
   "display_name": "Python 3",
   "language": "python",
   "name": "python3"
  },
  "language_info": {
   "codemirror_mode": {
    "name": "ipython",
    "version": 3
   },
   "file_extension": ".py",
   "mimetype": "text/x-python",
   "name": "python",
   "nbconvert_exporter": "python",
   "pygments_lexer": "ipython3",
   "version": "3.8.3"
  }
 },
 "nbformat": 4,
 "nbformat_minor": 4
}
